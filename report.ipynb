{
 "cells": [
  {
   "cell_type": "markdown",
   "metadata": {},
   "source": [
    "# Projet searchy indexation et recherche de documents\n",
    "Ayoub SBAI - Sohaib ATTAIKI"
   ]
  },
  {
   "cell_type": "markdown",
   "metadata": {},
   "source": [
    "## 1. Traitement linguistique"
   ]
  },
  {
   "cell_type": "markdown",
   "metadata": {},
   "source": [
    "**Collection CACM:**\n",
    " * Nombre de tokens : 413569\n",
    " * Taille du vocabulaire : 5961\n",
    "\n",
    "pour la moitié de la collection, on trouve que le nombre de tokens est: 152419, la taille du vocabulaire est : 3475.  donc on peut déduire que les paramètres k et b de la loi de Heap sont égaux à **k = 5,48** et  **b = 0.5406**.  \n",
    "Pour une collection de 1 millions de tokens, on estime que la taille du vocabulaire est : **9602**.\n",
    "\n",
    "**Collection Stanford:**\n",
    " * Nombre de tokens : 10254299\n",
    " * Taille du vocabulaire : 268191\n",
    "\n",
    "pour un dossier de la collection, on trouve que le nombre de tokens est : 1112154. la taille du vocabulaire est : 51349.  \n",
    "donc on peut déduire que les paramètres k et b de la loi de Heap sont égaux à **k = 1.72** et **b = 0.74**  \n",
    "Pour une collection de 1 millions de tokens, on estime que la taille du vocabulaire est : **47373**"
   ]
  },
  {
   "cell_type": "markdown",
   "metadata": {},
   "source": [
    "### Loi de zipf\n",
    "On trace la courbe rang - frequence"
   ]
  },
  {
   "cell_type": "code",
   "execution_count": 1,
   "metadata": {},
   "outputs": [],
   "source": [
    "import words\n",
    "import math\n",
    "import matplotlib.pyplot as plt\n",
    "import os.path\n",
    "import pylab\n",
    "from scipy import interpolate\n",
    "\n",
    "from Index import Index\n",
    "pylab.rcParams['figure.figsize'] = (16, 10)\n",
    "\n",
    "\n",
    "def plot_zipf(index):\n",
    "    frequencies = []\n",
    "    for term in index.inversed_index:\n",
    "        frequencies.append(sum(index.inversed_index[term].values()))\n",
    "    frequencies.sort(reverse=True)\n",
    "    \n",
    "    plt.xlabel('rang')\n",
    "    plt.ylabel('fréquence')\n",
    "    plt.plot([x for x in range(1, len(frequencies) + 1)], frequencies)\n",
    "    plt.show()\n",
    "\n",
    "    plt.xlabel('log rang')\n",
    "    plt.ylabel('log fréquence')\n",
    "    plt.plot([math.log(x) for x in range(1, len(frequencies) + 1)], [math.log(frequency) for frequency in frequencies])\n",
    "    plt.show()"
   ]
  },
  {
   "cell_type": "markdown",
   "metadata": {},
   "source": [
    "**Collection CACM**"
   ]
  },
  {
   "cell_type": "code",
   "execution_count": 2,
   "metadata": {},
   "outputs": [
    {
     "data": {
      "image/png": "[encoded data removed]",
      "text/plain": [
       "<matplotlib.figure.Figure at 0x7fcf2e27b898>"
      ]
     },
     "metadata": {},
     "output_type": "display_data"
    },
    {
     "data": {
      "image/png": "[encoded data removed]",
      "text/plain": [
       "<matplotlib.figure.Figure at 0x7fcf2beb5438>"
      ]
     },
     "metadata": {},
     "output_type": "display_data"
    }
   ],
   "source": [
    "collection_path = os.path.join(\"data\", \"CACM\", \"cacm.all\")\n",
    "plot_zipf(Index.index_cacm_file(collection_path, verbose=False))"
   ]
  },
  {
   "cell_type": "markdown",
   "metadata": {},
   "source": [
    "**Collection Stanford**"
   ]
  },
  {
   "cell_type": "code",
   "execution_count": 3,
   "metadata": {
    "scrolled": false
   },
   "outputs": [
    {
     "ename": "AttributeError",
     "evalue": "'NoneType' object has no attribute 'inversed_index'",
     "output_type": "error",
     "traceback": [
      "\u001b[0;31m---------------------------------------------------------------------------\u001b[0m",
      "\u001b[0;31mAttributeError\u001b[0m                            Traceback (most recent call last)",
      "\u001b[0;32m<ipython-input-3-9675d696035a>\u001b[0m in \u001b[0;36m<module>\u001b[0;34m()\u001b[0m\n\u001b[1;32m      1\u001b[0m \u001b[0mcollection_path\u001b[0m \u001b[0;34m=\u001b[0m \u001b[0mos\u001b[0m\u001b[0;34m.\u001b[0m\u001b[0mpath\u001b[0m\u001b[0;34m.\u001b[0m\u001b[0mjoin\u001b[0m\u001b[0;34m(\u001b[0m\u001b[0;34m\"dumps\"\u001b[0m\u001b[0;34m,\u001b[0m \u001b[0;34m\"pa1-data\"\u001b[0m\u001b[0;34m,\u001b[0m \u001b[0;34m\"pa1-data\"\u001b[0m\u001b[0;34m)\u001b[0m\u001b[0;34m\u001b[0m\u001b[0m\n\u001b[0;32m----> 2\u001b[0;31m \u001b[0mplot_zipf\u001b[0m\u001b[0;34m(\u001b[0m\u001b[0mIndex\u001b[0m\u001b[0;34m.\u001b[0m\u001b[0mindex_directory\u001b[0m\u001b[0;34m(\u001b[0m\u001b[0mcollection_path\u001b[0m\u001b[0;34m,\u001b[0m \u001b[0mverbose\u001b[0m\u001b[0;34m=\u001b[0m\u001b[0;32mFalse\u001b[0m\u001b[0;34m)\u001b[0m\u001b[0;34m)\u001b[0m\u001b[0;34m\u001b[0m\u001b[0m\n\u001b[0m",
      "\u001b[0;32m/media/lawliet/Unlimited Burst/Gakkō/OSY - Cours/RI/searchy/Index.py\u001b[0m in \u001b[0;36mindex_directory\u001b[0;34m(dirpath, verbose, use_cache, overwrite_cache, hold_content)\u001b[0m\n\u001b[1;32m     88\u001b[0m \u001b[0;34m\u001b[0m\u001b[0m\n\u001b[1;32m     89\u001b[0m         \u001b[0mend\u001b[0m \u001b[0;34m=\u001b[0m \u001b[0mtime\u001b[0m\u001b[0;34m(\u001b[0m\u001b[0;34m)\u001b[0m\u001b[0;34m\u001b[0m\u001b[0m\n\u001b[0;32m---> 90\u001b[0;31m         \u001b[0mmemory\u001b[0m \u001b[0;34m=\u001b[0m \u001b[0msys\u001b[0m\u001b[0;34m.\u001b[0m\u001b[0mgetsizeof\u001b[0m\u001b[0;34m(\u001b[0m\u001b[0mindex\u001b[0m\u001b[0;34m.\u001b[0m\u001b[0minversed_index\u001b[0m\u001b[0;34m)\u001b[0m\u001b[0;34m\u001b[0m\u001b[0m\n\u001b[0m\u001b[1;32m     91\u001b[0m         \u001b[0mmemory\u001b[0m \u001b[0;34m+=\u001b[0m \u001b[0msys\u001b[0m\u001b[0;34m.\u001b[0m\u001b[0mgetsizeof\u001b[0m\u001b[0;34m(\u001b[0m\u001b[0mindex\u001b[0m\u001b[0;34m.\u001b[0m\u001b[0mdocs_idx\u001b[0m\u001b[0;34m)\u001b[0m\u001b[0;34m\u001b[0m\u001b[0m\n\u001b[1;32m     92\u001b[0m         \u001b[0;32mif\u001b[0m \u001b[0mverbose\u001b[0m\u001b[0;34m:\u001b[0m\u001b[0;34m\u001b[0m\u001b[0m\n",
      "\u001b[0;31mAttributeError\u001b[0m: 'NoneType' object has no attribute 'inversed_index'"
     ]
    }
   ],
   "source": [
    "collection_path = os.path.join(\"dumps\", \"pa1-data\", \"pa1-data\")\n",
    "plot_zipf(Index.index_directory(collection_path, verbose=False))"
   ]
  },
  {
   "cell_type": "markdown",
   "metadata": {},
   "source": [
    "## 2. Implémentation du moteur de recherche"
   ]
  },
  {
   "cell_type": "markdown",
   "metadata": {},
   "source": [
    "Notre moteur de recherche s'appelle [searchy](https://github.com/souhaibattaiki/searchy), il permet d'indexer une collection de documents. Il prend en entrée soit le chemin vers un dossier contenant des documents à indexer soit un fichier au format CACM.\n",
    "\n",
    "### Installation et usage\n",
    "*Searchy* tourne sous Python 3. Il faut installer les dépendences avec les commandes suivantes:\n",
    "``` \n",
    "pip3 install -r requirements.txt\n",
    "python3 -c \"import nltk; nltk.download('punkt'); nltk.download('stopwords'); nltk.download('wordnet');\"\n",
    "```\n",
    "Ci-dessous le message d'aide pour l'outil:\n",
    "```\n",
    "usage: searchy.py [-h] [-q QUERY] [-m {bool,vect}]\n",
    "                  [-n {cos,dice,jaccard,overlap}] [-t THRESHOLD]\n",
    "                  [-w {f,tfidf,nf}] [-s] [-f] [--no-cache]\n",
    "                  collection\n",
    "\n",
    "Builds a search engine on a collection of documents\n",
    "\n",
    "positional arguments:\n",
    "  collection            Path to collection file (CACM format), directory or\n",
    "                        url to zip\n",
    "\n",
    "optional arguments:\n",
    "  -h, --help            show this help message and exit\n",
    "  -q QUERY, --query QUERY\n",
    "                        Execute a search query\n",
    "  -m {bool,vect}, --model {bool,vect}\n",
    "                        Search engine model\n",
    "  -n {cos,dice,jaccard,overlap}, --norm {cos,dice,jaccard,overlap}\n",
    "                        Vectorial search norm\n",
    "  -t THRESHOLD, --threshold THRESHOLD\n",
    "                        Vectorial search norm threshold\n",
    "  -w {f,tfidf,nf}, --weighting {f,tfidf,nf}\n",
    "                        Vectorial weighting method\n",
    "  -s, --silent          Disable verbose mode\n",
    "  -f, --force           Force re-indexing overwrite cache\n",
    "  --no-cache            Disable disk cache\n",
    "```\n",
    "\n",
    "### Indexation\n",
    "Nous avons implémenter l'algorithme d'indexation BSBI, notre index est un dictionnaire dont les clés sont les terms de la collections et les valeurs sont des dictionnaires de documents id avec la fréquence d'appartion comme valeur.  \n",
    "Nous ne stockons pas les vecteurs documents pondérés dans l'indexe afin de réduire sa taille (15 Mb seulement pour la collection stanford).  \n",
    "**Système de cache** L'indexation d'une collection peut-être cachée (comportement par défault). Ceci permet de ne pas recalculer ce qui a déjà été calculé pour une collection donnée. le temps d'indexation est considérablement réduit.  \n",
    "**Map Reduce** Quand on indexe un dossier (le cas de stanford), *searchy* va procéder par blocs que sous-dossiers. On parcours par réccurence tous les sous dossiers du path d'entré et on indexe tous les fichiers dedans. Une fois l'indexe construit pour un sous dossier, on le merge à notre indexe principale. Ce système permet de réduire la taille de données chargés en la memoire au même temps. \n",
    "\n",
    "### Modèle Booléen\n",
    "Pour activer le modèle booléen sur *searchy* on utilise l'option `-m bool`. Les requêtes sont formées à partir de terms et d'opérateurs **&** (et), **|** (ou), **~** (non) et de parenthèses. Un exemple de requête est:\n",
    "```\n",
    "programming & ( language | computer ) & ~mean\n",
    "```\n",
    "Les espaces sont optionnels.  \n",
    "**Evaluation des requêtes booléenes** L'évalution se fait en construisant l'arbre d'execution de l'expression booléenne, en intrerprétant les opérateurs par les opérateurs sur l'ensemble de documents de la collection (union pour ou, intersection pour et, etc...)\n",
    " \n",
    "### Modèle Vectoriel\n",
    "Le modèle vectoriel est le modèle par défault de *searchy*. On peut choisir la mesure de similaritée (norme) et la méthode de pondération avec les options `-n NORM` et `-w WEIGHTING`.  \n",
    " * les normes disponibles sont:  **cos**, **dice**, **jaccard** et **overlap**\n",
    " * Les méthodes de pondérations disponibles sont: **f** (fréquence brute), **tfidf**, **nf** (fréquence normalisée)\n",
    "\n",
    "### Tests unitaires\n",
    "Des tests unitaires ont été mis en place et s'executes avec la commande suivante:\n",
    "```\n",
    "python -m unittest -v tests/*.py\n",
    "```"
   ]
  },
  {
   "cell_type": "markdown",
   "metadata": {},
   "source": [
    "## 3. Evaluation CACM"
   ]
  },
  {
   "cell_type": "markdown",
   "metadata": {},
   "source": [
    "### Données d'evaluation"
   ]
  },
  {
   "cell_type": "code",
   "execution_count": 4,
   "metadata": {},
   "outputs": [],
   "source": [
    "# project\n",
    "from Index import Index\n",
    "from Document import Document\n",
    "from search.vectorial import VectorialSearchEngine\n",
    "from search.calc import WEIGHTINGS, NORMS\n",
    "\n",
    "collection_path = os.path.join(\"data\", \"CACM\", \"cacm.all\")\n",
    "querls_path =  os.path.join(\"data\", \"CACM\", \"qrels.text\")\n",
    "queries_path =  os.path.join(\"data\", \"CACM\", \"query.text\")\n",
    "\n",
    "# Parse queries as CACM document format\n",
    "queries = Document.parse_cacm(queries_path)\n",
    "\n",
    "# Parse qrels.text file\n",
    "querls = {}\n",
    "with open(querls_path, 'r') as querls_file:\n",
    "    for line in querls_file:\n",
    "        query_id, res, _, _ = list(map(int, line.split()))\n",
    "        if query_id not in querls:\n",
    "            querls[query_id] = set()\n",
    "        querls[query_id].add(res)"
   ]
  },
  {
   "cell_type": "markdown",
   "metadata": {},
   "source": [
    "### Performance"
   ]
  },
  {
   "cell_type": "markdown",
   "metadata": {},
   "source": [
    "#### Indexation"
   ]
  },
  {
   "cell_type": "code",
   "execution_count": 5,
   "metadata": {},
   "outputs": [
    {
     "name": "stdout",
     "output_type": "stream",
     "text": [
      "Loading data/CACM/cacm.all\n",
      "Loaded data/CACM/cacm.all\n",
      "  documents \t 3204\n",
      "  tokens \t 113754\n",
      "  terms \t 5961\n",
      "time: 27.01 s     memory: 0.42 mb\n"
     ]
    }
   ],
   "source": [
    "index = Index.index_cacm_file(collection_path, use_cache=False)"
   ]
  },
  {
   "cell_type": "code",
   "execution_count": 6,
   "metadata": {},
   "outputs": [
    {
     "name": "stdout",
     "output_type": "stream",
     "text": [
      "Loading dumps/pa1-data/pa1-data\n"
     ]
    },
    {
     "ename": "AttributeError",
     "evalue": "'NoneType' object has no attribute 'inversed_index'",
     "output_type": "error",
     "traceback": [
      "\u001b[0;31m---------------------------------------------------------------------------\u001b[0m",
      "\u001b[0;31mAttributeError\u001b[0m                            Traceback (most recent call last)",
      "\u001b[0;32m<ipython-input-6-d870388e3f6d>\u001b[0m in \u001b[0;36m<module>\u001b[0;34m()\u001b[0m\n\u001b[0;32m----> 1\u001b[0;31m \u001b[0mIndex\u001b[0m\u001b[0;34m.\u001b[0m\u001b[0mindex_directory\u001b[0m\u001b[0;34m(\u001b[0m\u001b[0mos\u001b[0m\u001b[0;34m.\u001b[0m\u001b[0mpath\u001b[0m\u001b[0;34m.\u001b[0m\u001b[0mjoin\u001b[0m\u001b[0;34m(\u001b[0m\u001b[0;34m\"dumps\"\u001b[0m\u001b[0;34m,\u001b[0m \u001b[0;34m\"pa1-data\"\u001b[0m\u001b[0;34m,\u001b[0m \u001b[0;34m\"pa1-data\"\u001b[0m\u001b[0;34m)\u001b[0m\u001b[0;34m)\u001b[0m\u001b[0;34m\u001b[0m\u001b[0m\n\u001b[0m",
      "\u001b[0;32m/media/lawliet/Unlimited Burst/Gakkō/OSY - Cours/RI/searchy/Index.py\u001b[0m in \u001b[0;36mindex_directory\u001b[0;34m(dirpath, verbose, use_cache, overwrite_cache, hold_content)\u001b[0m\n\u001b[1;32m     88\u001b[0m \u001b[0;34m\u001b[0m\u001b[0m\n\u001b[1;32m     89\u001b[0m         \u001b[0mend\u001b[0m \u001b[0;34m=\u001b[0m \u001b[0mtime\u001b[0m\u001b[0;34m(\u001b[0m\u001b[0;34m)\u001b[0m\u001b[0;34m\u001b[0m\u001b[0m\n\u001b[0;32m---> 90\u001b[0;31m         \u001b[0mmemory\u001b[0m \u001b[0;34m=\u001b[0m \u001b[0msys\u001b[0m\u001b[0;34m.\u001b[0m\u001b[0mgetsizeof\u001b[0m\u001b[0;34m(\u001b[0m\u001b[0mindex\u001b[0m\u001b[0;34m.\u001b[0m\u001b[0minversed_index\u001b[0m\u001b[0;34m)\u001b[0m\u001b[0;34m\u001b[0m\u001b[0m\n\u001b[0m\u001b[1;32m     91\u001b[0m         \u001b[0mmemory\u001b[0m \u001b[0;34m+=\u001b[0m \u001b[0msys\u001b[0m\u001b[0;34m.\u001b[0m\u001b[0mgetsizeof\u001b[0m\u001b[0;34m(\u001b[0m\u001b[0mindex\u001b[0m\u001b[0;34m.\u001b[0m\u001b[0mdocs_idx\u001b[0m\u001b[0;34m)\u001b[0m\u001b[0;34m\u001b[0m\u001b[0m\n\u001b[1;32m     92\u001b[0m         \u001b[0;32mif\u001b[0m \u001b[0mverbose\u001b[0m\u001b[0;34m:\u001b[0m\u001b[0;34m\u001b[0m\u001b[0m\n",
      "\u001b[0;31mAttributeError\u001b[0m: 'NoneType' object has no attribute 'inversed_index'"
     ]
    }
   ],
   "source": [
    "Index.index_directory(os.path.join(\"dumps\", \"pa1-data\", \"pa1-data\"))"
   ]
  },
  {
   "cell_type": "markdown",
   "metadata": {},
   "source": [
    "#### Recherche"
   ]
  },
  {
   "cell_type": "code",
   "execution_count": 7,
   "metadata": {},
   "outputs": [
    {
     "name": "stdout",
     "output_type": "stream",
     "text": [
      "Vectorial model query time (ms)\n",
      "max:  88.9287\n",
      "min:  0.9384\n",
      "mean: 9.1919\n",
      "Boolean model query time (ms)\n",
      "max:  4.85\n",
      "min:  1.05\n",
      "mean: 1.98\n"
     ]
    }
   ],
   "source": [
    "from search.vectorial import VectorialSearchEngine\n",
    "from search.bool import BooleanSearchEngine\n",
    "from statistics import mean\n",
    "from time import time\n",
    "from random import sample, randint\n",
    "\n",
    "\n",
    "engine = VectorialSearchEngine(index, weighting=\"tfidf\", norm=\"cos\", threshold=0.6)\n",
    "query_time = []\n",
    "ROUNDS = 500\n",
    "for _ in range(ROUNDS):\n",
    "    query = \" \".join(sample(index.inversed_index.keys(), randint(2, 20)))\n",
    "    start = time()\n",
    "    engine.search(query, top=10)\n",
    "    end = time()\n",
    "    query_time.append((end - start)*1000)\n",
    "\n",
    "print(\"Vectorial model query time (ms)\")\n",
    "print(\"max:  {:.4f}\".format(max(query_time)))\n",
    "print(\"min:  {:.4f}\".format(min(query_time)))\n",
    "print(\"mean: {:.4f}\".format(mean(query_time)))\n",
    "\n",
    "engine = BooleanSearchEngine(index)\n",
    "query_time = []\n",
    "for _ in range(ROUNDS):\n",
    "    query = \"&\".join(sample(index.inversed_index.keys(), randint(2, 5)))\n",
    "    query += \"&(\" + \"|\".join(sample(index.inversed_index.keys(), randint(2, 5))) + \")\"\n",
    "    start = time()\n",
    "    engine.search(query)\n",
    "    end = time()\n",
    "    query_time.append((end - start)*1000)\n",
    "\n",
    "print(\"Boolean model query time (ms)\")\n",
    "print(\"max:  {:.2f}\".format(max(query_time)))\n",
    "print(\"min:  {:.2f}\".format(min(query_time)))\n",
    "print(\"mean: {:.2f}\".format(mean(query_time)))"
   ]
  },
  {
   "cell_type": "markdown",
   "metadata": {},
   "source": [
    "### Courbe Rappel Précision"
   ]
  },
  {
   "cell_type": "code",
   "execution_count": 13,
   "metadata": {
    "scrolled": false
   },
   "outputs": [
    {
     "data": {
      "image/png": "[encoded data removed]",
      "text/plain": [
       "<matplotlib.figure.Figure at 0x7fcf272d5e48>"
      ]
     },
     "metadata": {},
     "output_type": "display_data"
    }
   ],
   "source": [
    "from scipy.signal import savgol_filter\n",
    "\n",
    "precision = {}\n",
    "recall = {}\n",
    "precision_p = {}\n",
    "recall_p = {}\n",
    "r_precision = {}\n",
    "RESOLUTION = 1000\n",
    "\n",
    "X, Y = {}, {}\n",
    "for norm in NORMS:\n",
    "    engine = VectorialSearchEngine(index, weighting=\"tfidf\", norm=norm, threshold=0.0)\n",
    "    precision[norm] = {}\n",
    "    recall[norm] = {}\n",
    "    r_precision[norm] = []\n",
    "\n",
    "    for query in queries:\n",
    "        query_str = query.content.replace('.W\\n', '')\n",
    "        query_str = query_str.replace('.K\\n', '')\n",
    "        if query.get_id() not in querls:\n",
    "            continue\n",
    "        precision[norm][query.get_id()] = {}\n",
    "        recall[norm][query.get_id()] = []\n",
    "        expected = querls[query.get_id()]\n",
    "        results, total_returned = engine.search(query_str, top=-1)\n",
    "        results = [doc_id for _, doc_id in results]\n",
    "        recal = 0\n",
    "        res = results[:len(expected)]\n",
    "        r_precision[norm].append(sum([1 for doc_id in res if doc_id in expected]) / len(res))\n",
    "        for top in range(1, RESOLUTION+1):\n",
    "            res = results[:top]\n",
    "            temp = round(sum([1 for doc_id in res if doc_id in expected]) / len(expected), 2)\n",
    "            if temp > recal:\n",
    "                recal = temp\n",
    "                recall[norm][query.get_id()].append(recal)\n",
    "                precision[norm][query.get_id()][recal] = sum([1 for doc_id in res if doc_id in expected]) / len(res)\n",
    "        for i in range(len(recall[norm][query.get_id()])):\n",
    "            recal = recall[norm][query.get_id()][i]\n",
    "            precision[norm][query.get_id()][recal] = max([precision[norm][query.get_id()][recall[norm][query.get_id()][j]] for j in range(i, len(recall[norm][query.get_id()]))])\n",
    "    r_precision[norm] = mean(r_precision[norm])\n",
    "    recall_p[norm] = []\n",
    "    precision_p[norm] = []\n",
    "    for query in queries:\n",
    "        if query.get_id() in querls:\n",
    "            recall_p[norm] = list(set(recall[norm][query.get_id()]) | set(recall_p[norm]))\n",
    "    recall_p[norm].sort()\n",
    "    for recal in recall_p[norm]:\n",
    "        m = []\n",
    "        for query in queries :\n",
    "            if query.get_id() in querls and recal in precision[norm][query.get_id()].keys():\n",
    "                m.append(precision[norm][query.get_id()][recal])\n",
    "        precision_p[norm].append(mean(m))\n",
    "    precision_p[norm] = savgol_filter(precision_p[norm], 61, 3)\n",
    "     \n",
    "colors = {\n",
    "    'cos': 'b',\n",
    "    'dice': 'r',\n",
    "    'jaccard': 'y',\n",
    "    'overlap': 'g'\n",
    "}\n",
    "for norm in NORMS:\n",
    "    plt.plot(recall_p[norm], precision_p[norm], colors[norm], label=norm)\n",
    "\n",
    "plt.legend()\n",
    "plt.ylabel('précision')\n",
    "plt.xlabel('rappel')\n",
    "plt.show()"
   ]
  },
  {
   "cell_type": "markdown",
   "metadata": {},
   "source": [
    "### R-précision"
   ]
  },
  {
   "cell_type": "code",
   "execution_count": 10,
   "metadata": {},
   "outputs": [
    {
     "name": "stdout",
     "output_type": "stream",
     "text": [
      "  cos    dice    jaccard    overlap\n",
      "-----  ------  ---------  ---------\n",
      "0.274   0.299      0.301      0.127\n"
     ]
    }
   ],
   "source": [
    "from tabulate import tabulate\n",
    "r_mesure = [[round(r_precision[norm],3) for norm in NORMS]]\n",
    "print(tabulate(r_mesure, headers=['cos', 'dice', 'jaccard', 'overlap']))"
   ]
  },
  {
   "cell_type": "markdown",
   "metadata": {},
   "source": [
    "### E-mesure et F-mesure"
   ]
  },
  {
   "cell_type": "code",
   "execution_count": 14,
   "metadata": {
    "scrolled": false
   },
   "outputs": [
    {
     "name": "stdout",
     "output_type": "stream",
     "text": [
      "norm           min       max      mean\n",
      "-------  ---------  --------  --------\n",
      "cos      0.0200107  0.3406    0.197743\n",
      "dice     0.0200137  0.384035  0.21563\n",
      "jaccard  0.0200137  0.385021  0.215758\n",
      "overlap  0.0200235  0.246699  0.135543\n"
     ]
    },
    {
     "data": {
      "image/png": "[encoded data removed]",
      "text/plain": [
       "<matplotlib.figure.Figure at 0x7fcf272c1d30>"
      ]
     },
     "metadata": {},
     "output_type": "display_data"
    }
   ],
   "source": [
    "def Emeasure(P, R):\n",
    "    B = P / R\n",
    "    return 1 - ((B**2+1)*P*R)/(P*(B**2)+R)\n",
    "\n",
    "def alpha(P, R):\n",
    "    B = P / R\n",
    "    return 1 / (B**2 + 1)\n",
    "\n",
    "def Fmeasure(P, R):\n",
    "    return 1 - Emeasure(P, R)\n",
    "\n",
    "table = []\n",
    "for norm in NORMS:\n",
    "    PR = [(recall_p[norm][i], precision_p[norm][i]) for i in range(len(recall_p[norm]))]\n",
    "    F = [Fmeasure(P, R) for P, R in PR]\n",
    "    A = [alpha(P, R) for P, R in PR]\n",
    "    table.append([norm, min(F), max(F), mean(F)])\n",
    "    plt.plot(A, F, colors[norm], label=norm)\n",
    "\n",
    "print(tabulate(table, headers=['norm', 'min', 'max', 'mean']))\n",
    "plt.legend()\n",
    "plt.ylabel('F-mesure')\n",
    "plt.xlabel('alpha')\n",
    "plt.show()"
   ]
  },
  {
   "cell_type": "markdown",
   "metadata": {},
   "source": [
    "### Mean average precision"
   ]
  },
  {
   "cell_type": "code",
   "execution_count": 27,
   "metadata": {
    "scrolled": true
   },
   "outputs": [
    {
     "name": "stdout",
     "output_type": "stream",
     "text": [
      "[397, 1046, 971, 1145, 1345, 1939, 2483, 2850, 3080, 2317, 236, 598, 1155, 1272, 1278, 1333, 1665, 1938, 2051, 2229, 2304, 2572, 2628, 2688, 2874, 3076, 3181, 1651, 136, 248, 254, 322, 356, 435, 462, 492, 531, 616, 724, 740, 944, 964, 1014, 1026, 1099, 1364, 1381, 1383, 1397, 1440, 1472, 1595, 1601, 1604, 1616, 1623, 1637, 1664, 1743, 1768, 1770, 1867, 1951, 2016, 2106, 2145, 2254, 2305, 2306, 2400, 2402, 2665, 2684, 2699, 2737, 2804, 2808, 2866, 3148, 282, 321, 597, 728, 847, 942, 1117, 1161, 1168, 1183, 1214, 1215, 1264, 1305, 1315, 1334, 1348, 1391, 1403, 1424, 1427, 1439, 1464, 1468, 1469, 1486, 1498, 1503, 1523, 1542, 1549, 1564, 1591, 1625, 1671, 1676, 1680, 1705, 1741, 1811, 1854, 1861, 1926, 2002, 2092, 2096, 2217, 2233, 2356, 2383, 2439, 2456, 2471, 2519, 2645, 2812, 2912, 2937, 2939, 2943, 3005, 3077, 3127, 3160, 3189, 3199, 3201, 3202, 3204]\n",
      "              cos      dice    jaccard    overlap\n",
      "--------  -------  --------  ---------  ---------\n",
      "mean avg  0.27697  0.314527   0.317934   0.141292\n"
     ]
    }
   ],
   "source": [
    "from statistics import StatisticsError\n",
    "\n",
    "mean_avg = {} \n",
    "for norm in NORMS:\n",
    "    engine = VectorialSearchEngine(index, weighting=\"tfidf\", norm=norm, threshold=0.0)\n",
    "    mean_avg[norm] = {}\n",
    "    for query in queries:\n",
    "        query_str = query.content.replace('.W\\n', '')\n",
    "        query_str = query_str.replace('.K\\n', '')\n",
    "        if query.get_id() not in querls:\n",
    "            continue\n",
    "        mean_avg[norm][query.get_id()] = []\n",
    "        expected = querls[query.get_id()]\n",
    "        results, total_returned = engine.search(query_str, top=-1)\n",
    "        results = [doc_id for _, doc_id in results]\n",
    "        for i, doc_id in enumerate(results):\n",
    "            res = results[:i+1]\n",
    "            if doc_id in expected:\n",
    "                recall = sum([1 for doc_id in res if doc_id in expected]) / len(expected)\n",
    "                precision = sum([1 for doc_id in res if doc_id in expected]) / len(res)\n",
    "                mean_avg[norm][query.get_id()].append(precision)\n",
    "                if recall >= 1:\n",
    "                    break\n",
    "        if query.get_id() == 2 and norm == 'cos':\n",
    "            print(results)\n",
    "        try:\n",
    "            mean_avg[norm][query.get_id()] = mean(mean_avg[norm][query.get_id()])\n",
    "        except StatisticsError:\n",
    "            mean_avg[norm][query.get_id()] = 0\n",
    "    mean_avg[norm] = mean([mean_avg[norm][query.get_id()] for query in queries if query.get_id() in mean_avg[norm]])\n",
    "headers = list(sorted(NORMS.keys()))\n",
    "table = [['mean avg'] + [mean_avg[norm] for norm in headers]]\n",
    "print(tabulate(table, headers=headers))"
   ]
  },
  {
   "cell_type": "code",
   "execution_count": null,
   "metadata": {},
   "outputs": [],
   "source": []
  }
 ],
 "metadata": {
  "kernelspec": {
   "display_name": "Python 3",
   "language": "python",
   "name": "python3"
  },
  "language_info": {
   "codemirror_mode": {
    "name": "ipython",
    "version": 3
   },
   "file_extension": ".py",
   "mimetype": "text/x-python",
   "name": "python",
   "nbconvert_exporter": "python",
   "pygments_lexer": "ipython3",
   "version": "3.6.3"
  }
 },
 "nbformat": 4,
 "nbformat_minor": 2
}
